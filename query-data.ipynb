{
 "cells": [
  {
   "cell_type": "code",
   "execution_count": null,
   "metadata": {},
   "outputs": [],
   "source": [
    "# you need to install the python client first\n",
    "# https://weaviate.io/developers/weaviate/client-libraries/python\n",
    "!pip install weaviate-client"
   ]
  },
  {
   "cell_type": "code",
   "execution_count": 1,
   "metadata": {},
   "outputs": [
    {
     "name": "stderr",
     "output_type": "stream",
     "text": [
      "/opt/anaconda3/lib/python3.9/site-packages/weaviate/warnings.py:24: UserWarning: Auth002: The token returned from you identity provider does not contain a refresh token. The current access token is only valid for 300s.\n",
      "\n",
      "            Access to your weaviate instance is not possible after expiration and this client will return an\n",
      "            authentication exception.\n",
      "\n",
      "            Things to try:\n",
      "            - You might need to enable refresh tokens in the settings of your authentication provider\n",
      "            - You might need to send the correct scope. For some providers it needs to include \"offline_access\"\n",
      "            \n",
      "  warnings.warn(\n"
     ]
    },
    {
     "data": {
      "text/plain": [
       "True"
      ]
     },
     "execution_count": 1,
     "metadata": {},
     "output_type": "execute_result"
    }
   ],
   "source": [
    "import os\n",
    "import weaviate\n",
    "\n",
    "auth_config = weaviate.AuthBearerToken(\n",
    "  access_token = os.getenv(\"AUTH_READ_KEY\"),\n",
    "  expires_in=300, # in seconds, by default 60s\n",
    ")\n",
    "client = weaviate.Client(\n",
    "    url=\"https://jbf9ymswtcqn0niqsdnobg.gcp.weaviate.cloud\",\n",
    "    auth_client_secret=auth_config\n",
    ")\n",
    "\n",
    "client.is_ready()"
   ]
  },
  {
   "cell_type": "code",
   "execution_count": 2,
   "metadata": {},
   "outputs": [],
   "source": [
    "# Check the docs to learn more about near_vector operator\n",
    "# https://weaviate.io/developers/weaviate/api/graphql/vector-search-parameters#nearvector\n",
    "\n",
    "def vector_serch(vector_to_search):\n",
    "    nearVector = {\n",
    "        \"vector\": vector_to_search\n",
    "        # you can use distance or certainty to make the search more strict\n",
    "        # https://weaviate.io/developers/weaviate/api/graphql/vector-search-parameters#variables\n",
    "    }\n",
    "\n",
    "    properties = [\n",
    "        \"my_id\", \"name\", \"url\",\n",
    "        \"_additional {distance}\"\n",
    "    ]\n",
    "\n",
    "    response = (\n",
    "        client.query\n",
    "        .get(\"Images\", properties)\n",
    "        .with_near_vector(nearVector)\n",
    "        .with_limit(5)\n",
    "        .do()\n",
    "    )\n",
    "\n",
    "    result = response['data']['Get']['Images']\n",
    "\n",
    "    return result"
   ]
  },
  {
   "cell_type": "code",
   "execution_count": 4,
   "metadata": {},
   "outputs": [
    {
     "name": "stdout",
     "output_type": "stream",
     "text": [
      "[{'_additional': {'distance': 0}, 'my_id': 1, 'name': 'Dancing dog', 'url': '/img/dd.png'}, {'_additional': {'distance': 0.17443335}, 'my_id': 2, 'name': 'House with a tree', 'url': '/img/hwat.png'}]\n"
     ]
    }
   ],
   "source": [
    "result = vector_serch([0.1, 0.2, 0.3, 0.4])\n",
    "print(result)"
   ]
  }
 ],
 "metadata": {
  "kernelspec": {
   "display_name": "Python 3",
   "language": "python",
   "name": "python3"
  },
  "language_info": {
   "codemirror_mode": {
    "name": "ipython",
    "version": 3
   },
   "file_extension": ".py",
   "mimetype": "text/x-python",
   "name": "python",
   "nbconvert_exporter": "python",
   "pygments_lexer": "ipython3",
   "version": "3.9.12"
  },
  "orig_nbformat": 4
 },
 "nbformat": 4,
 "nbformat_minor": 2
}
