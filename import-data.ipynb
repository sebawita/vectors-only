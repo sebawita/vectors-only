{
 "cells": [
  {
   "cell_type": "code",
   "execution_count": null,
   "metadata": {},
   "outputs": [],
   "source": [
    "!pip install weaviate-client"
   ]
  },
  {
   "attachments": {},
   "cell_type": "markdown",
   "metadata": {},
   "source": [
    "## Deployment options\n",
    "* [Weaviate Cloud Services (WCS)](https://weaviate.io/developers/wcs)\n",
    "* [Local deployment with Docker](https://weaviate.io/developers/weaviate/installation/docker-compose)\n",
    "\n",
    "### Saas Deployment\n",
    "\n",
    "Head to [WCS](https://console.weaviate.cloud/), create an account and create a Weaviate instance.\n",
    "\n",
    "This might take a few minutes. Once you create an instance, click on `details` to get your `Cluster URL`.\n",
    "\n",
    "### Local Deployment\n",
    "\n",
    "For local deployment, you can use Docker, see [docs](https://weaviate.io/developers/weaviate/installation/docker-compose).\n",
    "\n",
    "Get the docker config, with the following command:\n",
    "\n",
    "```\n",
    "curl -o docker-compose.yml \"https://configuration.weaviate.io/v2/docker-compose/docker-compose.yml?modules=standalone&runtime=docker-compose&weaviate_version=v1.18.2\"\n",
    "```\n",
    "\n",
    "Then start it with:\n",
    "\n",
    "```\n",
    "docker-compose up -d\n",
    "```\n",
    "\n",
    "Your cluster url should be\n",
    "```\n",
    "url=\"http://localhost:8080\",\n",
    "```"
   ]
  },
  {
   "cell_type": "code",
   "execution_count": 2,
   "metadata": {},
   "outputs": [
    {
     "name": "stderr",
     "output_type": "stream",
     "text": [
      "/opt/anaconda3/lib/python3.9/site-packages/weaviate/warnings.py:24: UserWarning: Auth002: The token returned from you identity provider does not contain a refresh token. The current access token is only valid for 3600s.\n",
      "\n",
      "            Access to your weaviate instance is not possible after expiration and this client will return an\n",
      "            authentication exception.\n",
      "\n",
      "            Things to try:\n",
      "            - You might need to enable refresh tokens in the settings of your authentication provider\n",
      "            - You might need to send the correct scope. For some providers it needs to include \"offline_access\"\n",
      "            \n",
      "  warnings.warn(\n"
     ]
    },
    {
     "data": {
      "text/plain": [
       "True"
      ]
     },
     "execution_count": 2,
     "metadata": {},
     "output_type": "execute_result"
    }
   ],
   "source": [
    "## Connect to a WCS instance\n",
    "\n",
    "import os\n",
    "import weaviate\n",
    "\n",
    "auth_config = weaviate.AuthBearerToken(\n",
    "  access_token = os.getenv(\"AUTH_WRITE_KEY\"),\n",
    "  expires_in=3600, # in seconds, by default 60s\n",
    ")\n",
    "client = weaviate.Client(\n",
    "    url=\"https://jbf9ymswtcqn0niqsdnobg.gcp.weaviate.cloud\",\n",
    "    auth_client_secret=auth_config\n",
    ")\n",
    "\n",
    "client.is_ready()"
   ]
  },
  {
   "cell_type": "code",
   "execution_count": null,
   "metadata": {},
   "outputs": [],
   "source": [
    "# Connect to a local instance\n",
    "\n",
    "import os\n",
    "import weaviate\n",
    "\n",
    "client = weaviate.Client(\n",
    "    url=\"http://localhost:8080\"\n",
    ")\n",
    "\n",
    "client.is_ready()"
   ]
  },
  {
   "cell_type": "code",
   "execution_count": 10,
   "metadata": {},
   "outputs": [],
   "source": [
    "# Only run this when you want to delete the collection and recreate it from scratch\n",
    "# This will delete all data in the Images collection\n",
    "\n",
    "# client.schema.delete_class(\"Images\")"
   ]
  },
  {
   "cell_type": "code",
   "execution_count": 3,
   "metadata": {},
   "outputs": [
    {
     "name": "stdout",
     "output_type": "stream",
     "text": [
      "The collection schema has been created\n"
     ]
    }
   ],
   "source": [
    "images_schema = {\n",
    "    \"class\": \"Images\",\n",
    "    \"description\": \"Wiki Article\",\n",
    "    \"vectorizer\": \"none\",\n",
    "\n",
    "    \"vectorIndexConfig\": {\n",
    "        # I am not 100% what distance metrics Clip uses, I guess it is cosine\n",
    "        # but if not, check the docs to select the right distance metric\n",
    "        # https://weaviate.io/developers/weaviate/configuration/distances\n",
    "        \"distance\": \"cosine\" \n",
    "    },\n",
    "    \"properties\": [\n",
    "        {\n",
    "            \"name\": \"my_id\",\n",
    "            \"dataType\": [ \"int\" ],\n",
    "        },\n",
    "        {\n",
    "            \"name\": \"name\",\n",
    "            \"dataType\": [ \"string\" ],\n",
    "        },\n",
    "        {\n",
    "            \"name\": \"url\",\n",
    "            \"dataType\": [ \"string\" ],\n",
    "        },\n",
    "    ]\n",
    "}\n",
    "\n",
    "# add the schema\n",
    "client.schema.create_class(images_schema)\n",
    "print(\"The collection schema has been created\")"
   ]
  },
  {
   "cell_type": "code",
   "execution_count": null,
   "metadata": {},
   "outputs": [],
   "source": [
    "### Step 1 - configure Weaviate Batch, which optimizes CRUD operations in bulk\n",
    "# - batch size of 100 – you can increase this value to speed up the process, but how much depends on the size of vectors and the server specs\n",
    "# feel free to experiment and increase\n",
    "# - add timeout retries if something goes wrong\n",
    "\n",
    "client.batch.configure(\n",
    "    batch_size=100,\n",
    "    timeout_retries=3,\n",
    ")"
   ]
  },
  {
   "cell_type": "code",
   "execution_count": 8,
   "metadata": {},
   "outputs": [
    {
     "name": "stdout",
     "output_type": "stream",
     "text": [
      "Uploading data with vectors to Images collection...\n",
      "Import 0 / 2 \n",
      "Importing (2) Images complete\n"
     ]
    }
   ],
   "source": [
    "print(\"Uploading data with vectors to Images collection...\")\n",
    "\n",
    "# here should be the code to load the data from a file, S3 bucket, etc\n",
    "\n",
    "collection = [\n",
    "    {\n",
    "        \"img_id\": 1,\n",
    "        \"img_name\": \"Dancing dog\",\n",
    "        \"img_url\": \"/img/dd.png\",\n",
    "        \"img_vector\": [0.1, 0.2, 0.3, 0.4]\n",
    "    },{\n",
    "        \"img_id\": 2,\n",
    "        \"img_name\": \"House with a tree\",\n",
    "        \"img_url\": \"/img/hwat.png\",\n",
    "        \"img_vector\": [0.3, 0.5, 0.2, 0.3]\n",
    "    }\n",
    "]\n",
    "\n",
    "counter=0\n",
    "\n",
    "with client.batch as batch:\n",
    "    for item in collection:\n",
    "        \n",
    "        # print update message every 100 objects        \n",
    "        if (counter %100 == 0):\n",
    "            print(f\"Import {counter} / {len(collection)} \")\n",
    "        \n",
    "        properties = {\n",
    "            \"my_id\": item[\"img_id\"],\n",
    "            \"name\": item[\"img_name\"],\n",
    "            \"url\": item[\"img_url\"],\n",
    "        }\n",
    "        \n",
    "        vector = item[\"img_vector\"] # grab the vector embedding from your object\n",
    "        \n",
    "        batch.add_data_object(properties, \"Images\", None, vector)\n",
    "        counter = counter+1\n",
    "\n",
    "print(f\"Importing ({len(collection)}) Images complete\")  "
   ]
  },
  {
   "cell_type": "code",
   "execution_count": 9,
   "metadata": {},
   "outputs": [
    {
     "name": "stdout",
     "output_type": "stream",
     "text": [
      "Object count:  [{'meta': {'count': 2}}]\n"
     ]
    }
   ],
   "source": [
    "# Display the number of imported objects\n",
    "result = (\n",
    "    client.query.aggregate(\"Images\")\n",
    "    .with_meta_count()\n",
    "    .do()\n",
    ")\n",
    "print(\"Object count: \", result[\"data\"][\"Aggregate\"][\"Images\"])"
   ]
  }
 ],
 "metadata": {
  "kernelspec": {
   "display_name": "Python 3",
   "language": "python",
   "name": "python3"
  },
  "language_info": {
   "codemirror_mode": {
    "name": "ipython",
    "version": 3
   },
   "file_extension": ".py",
   "mimetype": "text/x-python",
   "name": "python",
   "nbconvert_exporter": "python",
   "pygments_lexer": "ipython3",
   "version": "3.9.12"
  },
  "orig_nbformat": 4
 },
 "nbformat": 4,
 "nbformat_minor": 2
}
